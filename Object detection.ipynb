{
 "cells": [
  {
   "cell_type": "code",
   "execution_count": 3,
   "id": "5794da14-b13c-4671-835f-1a366c65af6a",
   "metadata": {},
   "outputs": [
    {
     "name": "stdout",
     "output_type": "stream",
     "text": [
      "Note: you may need to restart the kernel to use updated packages.Requirement already satisfied: opencv-python in e:\\jupyternotebookprj\\prj\\myenv\\lib\\site-packages (4.11.0.86)\n",
      "Requirement already satisfied: tensorflow in e:\\jupyternotebookprj\\prj\\myenv\\lib\\site-packages (2.18.0)\n",
      "\n"
     ]
    },
    {
     "name": "stderr",
     "output_type": "stream",
     "text": [
      "ERROR: Could not find a version that satisfies the requirement tensorflow-lite (from versions: none)\n",
      "ERROR: No matching distribution found for tensorflow-lite\n",
      "WARNING: You are using pip version 22.0.4; however, version 25.0.1 is available.\n",
      "You should consider upgrading via the 'E:\\jupyternotebookprj\\prj\\myenv\\Scripts\\python.exe -m pip install --upgrade pip' command.\n"
     ]
    }
   ],
   "source": [
    "pip install opencv-python tensorflow tensorflow-lite pytesseract pyttsx3 numpy\n"
   ]
  },
  {
   "cell_type": "code",
   "execution_count": 4,
   "id": "1f4fa951-3cd9-4087-9605-24ec8c552605",
   "metadata": {},
   "outputs": [
    {
     "name": "stdout",
     "output_type": "stream",
     "text": [
      "Collecting pyttsx3\n",
      "  Downloading pyttsx3-2.98-py3-none-any.whl (34 kB)\n",
      "Requirement already satisfied: pywin32 in e:\\jupyternotebookprj\\prj\\myenv\\lib\\site-packages (from pyttsx3) (308)\n",
      "Collecting comtypes\n",
      "  Downloading comtypes-1.4.10-py3-none-any.whl (241 kB)\n",
      "     -------------------------------------- 241.5/241.5 KB 1.8 MB/s eta 0:00:00\n",
      "Collecting pypiwin32\n",
      "  Downloading pypiwin32-223-py3-none-any.whl (1.7 kB)\n",
      "Installing collected packages: pypiwin32, comtypes, pyttsx3\n",
      "Successfully installed comtypes-1.4.10 pypiwin32-223 pyttsx3-2.98\n",
      "Note: you may need to restart the kernel to use updated packages.\n"
     ]
    },
    {
     "name": "stderr",
     "output_type": "stream",
     "text": [
      "WARNING: You are using pip version 22.0.4; however, version 25.0.1 is available.\n",
      "You should consider upgrading via the 'E:\\jupyternotebookprj\\prj\\myenv\\Scripts\\python.exe -m pip install --upgrade pip' command.\n"
     ]
    }
   ],
   "source": [
    "pip install pyttsx3\n"
   ]
  },
  {
   "cell_type": "code",
   "execution_count": null,
   "id": "64fd7865-b424-4493-a86f-7e101d6095c2",
   "metadata": {},
   "outputs": [
    {
     "name": "stdout",
     "output_type": "stream",
     "text": [
      "Warning: person ahead at 0.60 meters!\n",
      "Warning: car ahead at 0.54 meters!\n",
      "Warning: person ahead at 0.60 meters!\n",
      "Warning: person ahead at 0.59 meters!\n"
     ]
    }
   ],
   "source": [
    "import cv2\n",
    "import numpy as np\n",
    "import tensorflow as tf\n",
    "import pyttsx3\n",
    "from tensorflow.lite.python.interpreter import Interpreter\n",
    "\n",
    "# Initialize text-to-speech engine\n",
    "engine = pyttsx3.init()\n",
    "\n",
    "# Function to load labels from the coco_labels.txt file\n",
    "def load_labels(label_file):\n",
    "    \"\"\"Load class labels from a text file.\"\"\"\n",
    "    labels = {}\n",
    "    with open(label_file, 'r') as file:\n",
    "        for i, line in enumerate(file.readlines()):\n",
    "            labels[i] = line.strip()  # Map index to label name\n",
    "    return labels\n",
    "\n",
    "# Load the labels from coco_labels.txt file\n",
    "LABELS = load_labels('models/coco_labels.txt')\n",
    "\n",
    "# Load the TensorFlow Lite model\n",
    "interpreter = Interpreter(model_path=\"models/coco_ssd_mobilenet_v1_1.0_quant.tflite\")\n",
    "interpreter.allocate_tensors()\n",
    "\n",
    "# Initialize webcam\n",
    "cap = cv2.VideoCapture(0)\n",
    "\n",
    "def get_distance_from_camera(focal_length, known_width, pixel_width):\n",
    "    \"\"\"\n",
    "    Calculate the distance from the camera based on focal length, known object width, and pixel width of object.\n",
    "    Formula: distance = (focal_length * known_width) / pixel_width\n",
    "    \"\"\"\n",
    "    if pixel_width == 0:\n",
    "        return 0\n",
    "    return (focal_length * known_width) / pixel_width\n",
    "\n",
    "def detect_objects(frame):\n",
    "    # Resize the frame to match the input shape of the model (300x300 for this model)\n",
    "    input_tensor = cv2.resize(frame, (300, 300))\n",
    "    input_tensor = np.expand_dims(input_tensor, axis=0)\n",
    "    input_tensor = np.array(input_tensor, dtype=np.uint8)\n",
    "\n",
    "    # Get input and output tensor details\n",
    "    input_details = interpreter.get_input_details()\n",
    "    output_details = interpreter.get_output_details()\n",
    "\n",
    "    # Set input tensor\n",
    "    interpreter.set_tensor(input_details[0]['index'], input_tensor)\n",
    "\n",
    "    # Run the interpreter\n",
    "    interpreter.invoke()\n",
    "\n",
    "    # Get the output\n",
    "    boxes = interpreter.get_tensor(output_details[0]['index'])[0]  # Bounding boxes\n",
    "    classes = interpreter.get_tensor(output_details[1]['index'])[0]  # Class ids\n",
    "    scores = interpreter.get_tensor(output_details[2]['index'])[0]  # Scores\n",
    "    num_objects = int(interpreter.get_tensor(output_details[3]['index'])[0])  # Number of detected objects\n",
    "\n",
    "    return boxes, classes, scores, num_objects\n",
    "\n",
    "def alert_object(detected_objects):\n",
    "    for object in detected_objects:\n",
    "        label = object[\"label\"]\n",
    "        distance = object[\"distance\"]\n",
    "        if distance <= 0.60:  # Trigger alert if distance is less than or equal to 0.50 meters\n",
    "            alert_text = f\"Warning: {label} ahead at {distance:.2f} meters!\"\n",
    "            print(alert_text)  # For debugging\n",
    "            engine.say(alert_text)  # Text-to-speech\n",
    "            engine.runAndWait()\n",
    "\n",
    "def main():\n",
    "    # Focal length and known width of an object (e.g., person)\n",
    "    focal_length = 700  # This is an example; you'd need to calibrate it\n",
    "    known_width = 0.5  # Example: average width of a person in meters\n",
    "    \n",
    "    while True:\n",
    "        ret, frame = cap.read()\n",
    "        if not ret:\n",
    "            print(\"Failed to grab frame\")\n",
    "            break\n",
    "\n",
    "        # Object detection\n",
    "        boxes, classes, scores, num_objects = detect_objects(frame)\n",
    "\n",
    "        detected_objects = []\n",
    "\n",
    "        for i in range(num_objects):\n",
    "            if scores[i] > 0.5:  # Confidence threshold\n",
    "                ymin, xmin, ymax, xmax = boxes[i]\n",
    "                xmin, ymin, xmax, ymax = int(xmin * frame.shape[1]), int(ymin * frame.shape[0]), int(xmax * frame.shape[1]), int(ymax * frame.shape[0])\n",
    "\n",
    "                object_class = int(classes[i])\n",
    "                label = LABELS.get(object_class, 'unknown')\n",
    "\n",
    "                # Calculate pixel width (for distance calculation)\n",
    "                pixel_width = xmax - xmin\n",
    "                distance = get_distance_from_camera(focal_length, known_width, pixel_width)\n",
    "                \n",
    "                detected_objects.append({\"label\": label, \"distance\": distance})\n",
    "\n",
    "                # Draw bounding box (optional, if you want to see the detection)\n",
    "                cv2.rectangle(frame, (xmin, ymin), (xmax, ymax), (0, 255, 0), 2)\n",
    "                cv2.putText(frame, f\"{label} {distance:.2f}m\", (xmin, ymin - 10), cv2.FONT_HERSHEY_SIMPLEX, 0.5, (0, 255, 0), 2)\n",
    "\n",
    "        # Give voice alerts\n",
    "        alert_object(detected_objects)\n",
    "\n",
    "        # Show the frame with detection (optional)\n",
    "        cv2.imshow('Object Detection', frame)\n",
    "\n",
    "        # Break on pressing 'q'\n",
    "        if cv2.waitKey(1) & 0xFF == ord('q'):\n",
    "            break\n",
    "\n",
    "    cap.release()\n",
    "    cv2.destroyAllWindows()\n",
    "\n",
    "if __name__ == \"__main__\":\n",
    "    main()\n"
   ]
  },
  {
   "cell_type": "code",
   "execution_count": null,
   "id": "f8fe3e9c-9de9-4040-b154-c60a758239f0",
   "metadata": {},
   "outputs": [],
   "source": []
  }
 ],
 "metadata": {
  "kernelspec": {
   "display_name": "Python (myenv)",
   "language": "python",
   "name": "myenv"
  },
  "language_info": {
   "codemirror_mode": {
    "name": "ipython",
    "version": 3
   },
   "file_extension": ".py",
   "mimetype": "text/x-python",
   "name": "python",
   "nbconvert_exporter": "python",
   "pygments_lexer": "ipython3",
   "version": "3.10.3"
  }
 },
 "nbformat": 4,
 "nbformat_minor": 5
}
